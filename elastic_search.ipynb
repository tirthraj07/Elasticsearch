{
 "cells": [
  {
   "cell_type": "markdown",
   "metadata": {},
   "source": [
    "## Elastic Search Tutorial"
   ]
  },
  {
   "cell_type": "code",
   "execution_count": 14,
   "metadata": {},
   "outputs": [
    {
     "name": "stdout",
     "output_type": "stream",
     "text": [
      "Connected to Elastic Search\n",
      "{'cluster_name': 'docker-cluster',\n",
      " 'cluster_uuid': '_WHZ-oGpSHe5R6WMtacRwQ',\n",
      " 'name': '1d99da101863',\n",
      " 'tagline': 'You Know, for Search',\n",
      " 'version': {'build_date': '2024-12-11T12:08:05.663969764Z',\n",
      "             'build_flavor': 'default',\n",
      "             'build_hash': '2b6a7fed44faa321997703718f07ee0420804b41',\n",
      "             'build_snapshot': False,\n",
      "             'build_type': 'docker',\n",
      "             'lucene_version': '9.12.0',\n",
      "             'minimum_index_compatibility_version': '7.0.0',\n",
      "             'minimum_wire_compatibility_version': '7.17.0',\n",
      "             'number': '8.17.0'}}\n"
     ]
    }
   ],
   "source": [
    "from pprint import pprint\n",
    "from elasticsearch import Elasticsearch\n",
    "\n",
    "# Constants (Should be in Environment Variables but this is a tutorial so okay)\n",
    "CONNECTION_URL = \"https://localhost:9200\"\n",
    "USERNAME = \"elastic\"\n",
    "PASSWORD = \"csK=aB81_-zSctJTLxZ3\"\n",
    "TLS_ENABLED = False                     # Enable in production mode\n",
    "SSL_WARNINGS = False                    # Enable in production mode\n",
    "CLOUD_ID = None                         # If you are using Elastic Cloud\n",
    "API_KEY = None                          # If you are using Elastic Cloud\n",
    "\n",
    "# Connect to elastic search\n",
    "\n",
    "es = Elasticsearch(CONNECTION_URL, basic_auth=[USERNAME, PASSWORD], verify_certs=TLS_ENABLED, ssl_show_warn=SSL_WARNINGS)\n",
    "\n",
    "# Get Client info\n",
    "client_info = es.info()\n",
    "\n",
    "print(\"Connected to Elastic Search\")\n",
    "pprint(client_info.body)"
   ]
  },
  {
   "cell_type": "markdown",
   "metadata": {},
   "source": [
    "## Indices in Elastic Search\n",
    "Reference : [Indices](https://www.elastic.co/guide/en/elasticsearch/reference/current/documents-indices.html)\n",
    "  \n",
    "The __index__ is the fundamental unit of storage in Elasticsearch, a __logical namespace__ for storing data that share similar characteristics\n",
    "An index is a collection of documents uniquely identified by a name or an alias. This unique name is important because it’s used to target the index in search queries and other operations.\n",
    "An index in Elasticsearch is like a database in a relational database management system (RDBMS)."
   ]
  },
  {
   "cell_type": "code",
   "execution_count": 17,
   "metadata": {},
   "outputs": [
    {
     "data": {
      "text/plain": [
       "ObjectApiResponse({'acknowledged': True, 'shards_acknowledged': True, 'index': 'my_index'})"
      ]
     },
     "execution_count": 17,
     "metadata": {},
     "output_type": "execute_result"
    }
   ],
   "source": [
    "# How to delete index\n",
    "es.indices.delete(index=\"my_index\", ignore_unavailable=True)\n",
    "\n",
    "# How to create index\n",
    "es.indices.create(\n",
    "    index=\"my_index\",\n",
    "    settings={\n",
    "        \"index\": {\n",
    "            \"number_of_shards\" : 3,     # How many pieces the data is split into    \n",
    "            \"number_of_replicas\" : 2    # How many copies of the data\n",
    "        }\n",
    "    }\n",
    ")"
   ]
  },
  {
   "cell_type": "markdown",
   "metadata": {},
   "source": [
    "## Documents\n",
    "Elasticsearch serializes and stores data in the form of JSON documents. A document is a set of fields, which are key-value pairs that contain your data. \n",
    "\n",
    "Each document has a unique ID, which you can create or have Elasticsearch auto-generate.\n",
    "You can also provide your own ID using the `id` parameter in the `index()` function "
   ]
  },
  {
   "cell_type": "markdown",
   "metadata": {},
   "source": [
    "### Inserting Single Document"
   ]
  },
  {
   "cell_type": "code",
   "execution_count": 23,
   "metadata": {},
   "outputs": [
    {
     "name": "stdout",
     "output_type": "stream",
     "text": [
      "ObjectApiResponse({'_index': 'my_index', '_id': '1', '_version': 5, 'result': 'created', '_shards': {'total': 3, 'successful': 1, 'failed': 0}, '_seq_no': 4, '_primary_term': 1})\n"
     ]
    }
   ],
   "source": [
    "document = {\n",
    "  \"id\": 1,\n",
    "  \"name\": \"Wireless Mouse\",\n",
    "  \"price\": 25.99,\n",
    "  \"description\": \"Ergonomic wireless mouse with adjustable DPI settings.\",\n",
    "  \"category\": \"Electronics\",\n",
    "  \"available\": True,\n",
    "  \"release_date\": \"2024-12-01\"\n",
    "}\n",
    "\n",
    "response = es.index(index=\"my_index\", id=1, document=document)\n",
    "pprint(response)"
   ]
  },
  {
   "cell_type": "code",
   "execution_count": 24,
   "metadata": {},
   "outputs": [
    {
     "name": "stdout",
     "output_type": "stream",
     "text": [
      "created\n"
     ]
    }
   ],
   "source": [
    "print(response['result'])       # Shows the result of the response : Created, Updated, Deleted"
   ]
  },
  {
   "cell_type": "code",
   "execution_count": 26,
   "metadata": {},
   "outputs": [
    {
     "name": "stdout",
     "output_type": "stream",
     "text": [
      "{'_id': '1',\n",
      " '_index': 'my_index',\n",
      " '_primary_term': 1,\n",
      " '_seq_no': 4,\n",
      " '_shards': {'failed': 0, 'successful': 1, 'total': 3},\n",
      " '_version': 5,\n",
      " 'result': 'created'}\n"
     ]
    }
   ],
   "source": [
    "pprint(response.body)"
   ]
  },
  {
   "cell_type": "markdown",
   "metadata": {},
   "source": [
    "## Inserting Multiple Documents\n",
    "\n",
    "The bulk API in Elasticsearch allows you to perform multiple indexing (insert/update/delete) operations in a single request.\n",
    "\n",
    "- Create a list of documents you want to insert.\n",
    "- Format the documents as a list of bulk actions.\n",
    "- Use the bulk() helper function from the Elasticsearch Python client."
   ]
  },
  {
   "cell_type": "code",
   "execution_count": 33,
   "metadata": {},
   "outputs": [],
   "source": [
    "documents = [\n",
    "    {\n",
    "        \"_index\": \"my_index\",\n",
    "        \"_id\": 2,\n",
    "        \"_source\": {\n",
    "            \"id\": 2,\n",
    "            \"name\": \"Mechanical Keyboard\",\n",
    "            \"price\": 75.50,\n",
    "            \"description\": \"Durable mechanical keyboard with customizable RGB lighting.\",\n",
    "            \"category\": \"Electronics\",\n",
    "            \"available\": True,\n",
    "            \"release_date\": \"2023-11-15\"\n",
    "        }\n",
    "    },\n",
    "    {\n",
    "        \"_index\": \"my_index\",\n",
    "        \"_id\": 3,\n",
    "        \"_source\": {\n",
    "            \"id\": 3,\n",
    "            \"name\": \"Gaming Monitor\",\n",
    "            \"price\": 299.99,\n",
    "            \"description\": \"27-inch gaming monitor with 144Hz refresh rate and 1ms response time.\",\n",
    "            \"category\": \"Electronics\",\n",
    "            \"available\": True,\n",
    "            \"release_date\": \"2022-09-20\"\n",
    "        }\n",
    "    },\n",
    "    {\n",
    "        \"_index\": \"my_index\",\n",
    "        \"_id\": 4,\n",
    "        \"_source\": {\n",
    "            \"id\": 4,\n",
    "            \"name\": \"Webcam\",\n",
    "            \"price\": 49.99,\n",
    "            \"description\": \"HD webcam with built-in microphone and 1080p resolution.\",\n",
    "            \"category\": \"Electronics\",\n",
    "            \"available\": True,\n",
    "            \"release_date\": \"2021-05-12\"\n",
    "        }\n",
    "    }\n",
    "]"
   ]
  },
  {
   "cell_type": "code",
   "execution_count": 34,
   "metadata": {},
   "outputs": [
    {
     "name": "stdout",
     "output_type": "stream",
     "text": [
      "Bulk Insert Response: (3, [])\n"
     ]
    }
   ],
   "source": [
    "from elasticsearch.helpers import bulk\n",
    "\n",
    "# Use the bulk API to insert all documents\n",
    "response = bulk(es, documents)\n",
    "\n",
    "# Print the response\n",
    "print(\"Bulk Insert Response:\", response)"
   ]
  },
  {
   "cell_type": "markdown",
   "metadata": {},
   "source": [
    "## Getting documents"
   ]
  },
  {
   "cell_type": "code",
   "execution_count": 45,
   "metadata": {},
   "outputs": [
    {
     "name": "stdout",
     "output_type": "stream",
     "text": [
      "{'_id': '1',\n",
      " '_index': 'my_index',\n",
      " '_primary_term': 1,\n",
      " '_seq_no': 4,\n",
      " '_source': {'available': True,\n",
      "             'category': 'Electronics',\n",
      "             'description': 'Ergonomic wireless mouse with adjustable DPI '\n",
      "                            'settings.',\n",
      "             'id': 1,\n",
      "             'name': 'Wireless Mouse',\n",
      "             'price': 25.99,\n",
      "             'release_date': '2024-12-01'},\n",
      " '_version': 5,\n",
      " 'found': True}\n"
     ]
    }
   ],
   "source": [
    "fetch_doc = es.get(index=\"my_index\", id = 1)\n",
    "pprint(fetch_doc.body)"
   ]
  },
  {
   "cell_type": "markdown",
   "metadata": {},
   "source": [
    "## Searching Documents\n",
    "You can query using the `query` parameter in `search()` function"
   ]
  },
  {
   "cell_type": "code",
   "execution_count": 53,
   "metadata": {},
   "outputs": [
    {
     "name": "stdout",
     "output_type": "stream",
     "text": [
      "{  'available': True,\n",
      "   'category': 'Electronics',\n",
      "   'description': 'Durable mechanical keyboard with customizable RGB lighting.',\n",
      "   'id': 2,\n",
      "   'name': 'Mechanical Keyboard',\n",
      "   'price': 75.5,\n",
      "   'release_date': '2023-11-15'}\n",
      "{  'available': True,\n",
      "   'category': 'Electronics',\n",
      "   'description': '27-inch gaming monitor with 144Hz refresh rate and 1ms '\n",
      "                  'response time.',\n",
      "   'id': 3,\n",
      "   'name': 'Gaming Monitor',\n",
      "   'price': 299.99,\n",
      "   'release_date': '2022-09-20'}\n",
      "{  'available': True,\n",
      "   'category': 'Electronics',\n",
      "   'description': 'HD webcam with built-in microphone and 1080p resolution.',\n",
      "   'id': 4,\n",
      "   'name': 'Webcam',\n",
      "   'price': 49.99,\n",
      "   'release_date': '2021-05-12'}\n",
      "{  'available': True,\n",
      "   'category': 'Electronics',\n",
      "   'description': 'Ergonomic wireless mouse with adjustable DPI settings.',\n",
      "   'id': 1,\n",
      "   'name': 'Wireless Mouse',\n",
      "   'price': 25.99,\n",
      "   'release_date': '2024-12-01'}\n"
     ]
    }
   ],
   "source": [
    "response = es.search(\n",
    "    index=\"my_index\",               # Specify the index name\n",
    "    query={\"match_all\": {}}         # Match all documents\n",
    ")\n",
    "\n",
    "for hit in response['hits']['hits']:\n",
    "    pprint(hit['_source'], indent=3)  "
   ]
  },
  {
   "cell_type": "markdown",
   "metadata": {},
   "source": [
    "## Deleting Documents and Indexes"
   ]
  },
  {
   "cell_type": "code",
   "execution_count": 54,
   "metadata": {},
   "outputs": [
    {
     "data": {
      "text/plain": [
       "ObjectApiResponse({'_index': 'my_index', '_id': '1', '_version': 6, 'result': 'deleted', '_shards': {'total': 3, 'successful': 1, 'failed': 0}, '_seq_no': 5, '_primary_term': 1})"
      ]
     },
     "execution_count": 54,
     "metadata": {},
     "output_type": "execute_result"
    }
   ],
   "source": [
    "es.delete(index=\"my_index\", id=1)       # Deletes Document specified by id"
   ]
  },
  {
   "cell_type": "code",
   "execution_count": 56,
   "metadata": {},
   "outputs": [
    {
     "data": {
      "text/plain": [
       "ObjectApiResponse({'acknowledged': True})"
      ]
     },
     "execution_count": 56,
     "metadata": {},
     "output_type": "execute_result"
    }
   ],
   "source": [
    "es.indices.delete(index=\"my_index\")             # Deletes Index"
   ]
  },
  {
   "cell_type": "markdown",
   "metadata": {},
   "source": [
    "## Mappings in Elastic Search\n",
    "\n",
    "A mapping in Elasticsearch defines the schema of an index, specifying how the data in documents is stored, indexed, and queried. It is similar to a database table schema, where you define the structure of fields and their data types, but it is more flexible.\n",
    "\n",
    "Reference:\n",
    "- [Field data types](https://www.elastic.co/guide/en/elasticsearch/reference/current/mapping-types.html)\n",
    "- [Video Reference](https://youtu.be/a4HBKEda_F8?si=_xCPkDemPwdByV53&t=1334)\n",
    "\n",
    "\n",
    "### Common Data Types\n",
    "\n",
    "1. __Binary Data Type__:\n",
    "This field accepts binary value as Base64 encoded string\n",
    "It is not searchable or nor stored\n",
    "Use the _source (i.e the document) to get back the data\n",
    "\n",
    "2. __Boolean__:\n",
    "Stores true and false values\n",
    "\n",
    "3. __Numbers__:\n",
    "They can be long, integers, bytes, shorts, etc\n",
    "\n",
    "4. __Dates__:\n",
    "Date types, including date and date_nanos\n",
    "\n",
    "5. __Keywords__:\n",
    "When you want to sort or filter documents \n",
    "Example: IDs, email, status codes, zip codes, etc"
   ]
  },
  {
   "cell_type": "markdown",
   "metadata": {},
   "source": [
    "### Step 1: Encode The document in base64"
   ]
  },
  {
   "cell_type": "code",
   "execution_count": 93,
   "metadata": {},
   "outputs": [
    {
     "name": "stdout",
     "output_type": "stream",
     "text": [
      "/9j/4AAQSkZJRgABAQAAAQABAAD/4QBiRXhpZgAATU0AKgAAAAgABQESAAMAAAABAAEAAAEaAAUAAAABAAAASgEbAAUAAAABAAAA\n"
     ]
    }
   ],
   "source": [
    "import base64\n",
    "\n",
    "image_path = \"./public/elasticsearch-logo.jpg\"\n",
    "with open(image_path, \"rb\") as image_file:\n",
    "    image_bytes = image_file.read()\n",
    "    image_base64 = base64.b64encode(image_bytes).decode(\"utf-8\")\n",
    "    print(image_base64[:100])"
   ]
  },
  {
   "cell_type": "markdown",
   "metadata": {},
   "source": [
    "### Step 2: Create a mapping which contains the metadata about the image and also its content"
   ]
  },
  {
   "cell_type": "code",
   "execution_count": 94,
   "metadata": {},
   "outputs": [
    {
     "data": {
      "text/plain": [
       "ObjectApiResponse({'acknowledged': True, 'shards_acknowledged': True, 'index': 'image_data'})"
      ]
     },
     "execution_count": 94,
     "metadata": {},
     "output_type": "execute_result"
    }
   ],
   "source": [
    "# Lets us first create an index with mapping\n",
    "mapping = {\n",
    "    \"properties\" : {\n",
    "        \"file_name\": {\"type\": \"keyword\"},       # For exact search\n",
    "        \"file_size\": {\"type\": \"integer\"},       # File size in bytes\n",
    "        \"image_type\": {\"type\": \"keyword\"},      # Image type (e.g., png, jpeg, gif)\n",
    "        \"image_data\" : {\n",
    "            \"type\" : \"binary\"                   # Binary data (Base64-encoded)\n",
    "        }\n",
    "    }\n",
    "}\n",
    "\n",
    "es.indices.create(index=\"image_data\", mappings=mapping)\n"
   ]
  },
  {
   "cell_type": "markdown",
   "metadata": {},
   "source": [
    "### Step 3: Store the document inside the index"
   ]
  },
  {
   "cell_type": "code",
   "execution_count": 95,
   "metadata": {},
   "outputs": [
    {
     "data": {
      "text/plain": [
       "ObjectApiResponse({'_index': 'image_data', '_id': 'au_UxpMB3baMLLZ1hiyU', '_version': 1, 'result': 'created', '_shards': {'total': 2, 'successful': 1, 'failed': 0}, '_seq_no': 0, '_primary_term': 1})"
      ]
     },
     "execution_count": 95,
     "metadata": {},
     "output_type": "execute_result"
    }
   ],
   "source": [
    "document = {\n",
    "    \"file_name\" : \"elastic-search\",\n",
    "    \"file_size\" : len(image_base64),\n",
    "    \"image_type\": \"jpg\",\n",
    "    \"image_data\": image_base64    \n",
    "}\n",
    "\n",
    "es.index(index=\"image_data\", document=document)"
   ]
  },
  {
   "cell_type": "markdown",
   "metadata": {},
   "source": [
    "### Step 4: Retrieve back the document and decode from base64. Optionally Save the file"
   ]
  },
  {
   "cell_type": "code",
   "execution_count": 99,
   "metadata": {},
   "outputs": [
    {
     "name": "stdout",
     "output_type": "stream",
     "text": [
      "/9j/4AAQSkZJRgABAQAAAQABAAD/4QBiRXhpZgAATU0AKgAAAAgABQESAAMAAAABAAEAAAEaAAUAAAABAAAASgEbAAUAAAABAAAA\n"
     ]
    }
   ],
   "source": [
    "response = es.search(\n",
    "    index=\"image_data\",\n",
    "    query={\"match\": {\"file_name\": \"elastic-search\"}}\n",
    ")\n",
    "\n",
    "for hit in response['hits']['hits']:\n",
    "    binary_data = hit['_source']['image_data']\n",
    "    print(binary_data[:100])\n",
    "    binary_content = base64.b64decode(binary_data)\n",
    "    with open(\"public/retrieved_example.jpg\", \"wb\") as file:\n",
    "        file.write(binary_content)"
   ]
  },
  {
   "cell_type": "markdown",
   "metadata": {},
   "source": [
    "### Text Data Type\n",
    "In Elasticsearch, the `text data type` is used for fields that contain full-text content (like paragraphs, titles, descriptions, etc.). The text type is __analyzed__ by Elasticsearch to enable full-text search capabilities, which means it breaks the text into tokens (terms) and indexes those tokens for efficient searching.\n",
    "\n",
    "Key Features of text type:\n",
    "Full-text search: The text type is used for fields that require full-text search, where Elasticsearch breaks down the text into terms (words) and indexes them.\n",
    "Analyzers: By default, Elasticsearch uses a standard analyzer that breaks the text into tokens (words) and lowercases them. You can customize the analyzer for specific use cases.\n",
    "Not for exact matching: If you need exact matching (e.g., for keywords or IDs), you should use the `keyword` type instead."
   ]
  },
  {
   "cell_type": "markdown",
   "metadata": {},
   "source": [
    "### Step 1: Create a mapping with `text` fields for requiring Full-text support"
   ]
  },
  {
   "cell_type": "code",
   "execution_count": 100,
   "metadata": {},
   "outputs": [
    {
     "data": {
      "text/plain": [
       "ObjectApiResponse({'acknowledged': True, 'shards_acknowledged': True, 'index': 'books'})"
      ]
     },
     "execution_count": 100,
     "metadata": {},
     "output_type": "execute_result"
    }
   ],
   "source": [
    "mapping = {\n",
    "    \"properties\": {\n",
    "        \"title\": {\n",
    "            \"type\": \"text\"  # Full-text search field\n",
    "        },\n",
    "        \"description\": {\n",
    "            \"type\": \"text\"  # Another full-text search field\n",
    "        },\n",
    "        \"author\": {\n",
    "            \"type\": \"keyword\"  # Non-analyzed field for exact matching (e.g., author's name)\n",
    "        },\n",
    "        \"publish_date\": {\n",
    "            \"type\": \"date\"  # Date field for storing publication date\n",
    "        }\n",
    "    }\n",
    "}\n",
    "es.indices.create(index=\"books\", mappings=mapping)"
   ]
  },
  {
   "cell_type": "markdown",
   "metadata": {},
   "source": [
    "### Step 2: Add a document in the index"
   ]
  },
  {
   "cell_type": "code",
   "execution_count": 101,
   "metadata": {},
   "outputs": [
    {
     "data": {
      "text/plain": [
       "ObjectApiResponse({'_index': 'books', '_id': '1', '_version': 1, 'result': 'created', '_shards': {'total': 2, 'successful': 1, 'failed': 0}, '_seq_no': 0, '_primary_term': 1})"
      ]
     },
     "execution_count": 101,
     "metadata": {},
     "output_type": "execute_result"
    }
   ],
   "source": [
    "document = {\n",
    "    \"title\": \"Learning Elasticsearch\",\n",
    "    \"description\": \"Elasticsearch is a powerful distributed search and analytics engine.\",\n",
    "    \"author\": \"John Doe\",\n",
    "    \"publish_date\": \"2024-01-01\"\n",
    "}\n",
    "\n",
    "es.index(index=\"books\", id=1, document=document)"
   ]
  },
  {
   "cell_type": "markdown",
   "metadata": {},
   "source": [
    "### Step 3: Query the document based on text"
   ]
  },
  {
   "cell_type": "code",
   "execution_count": 109,
   "metadata": {},
   "outputs": [
    {
     "name": "stdout",
     "output_type": "stream",
     "text": [
      "{'author': 'John Doe',\n",
      " 'description': 'Elasticsearch is a powerful distributed search and analytics '\n",
      "                'engine.',\n",
      " 'publish_date': '2024-01-01',\n",
      " 'title': 'Learning Elasticsearch'}\n"
     ]
    }
   ],
   "source": [
    "response = es.search(\n",
    "    index=\"books\",\n",
    "    query={\n",
    "        \"match\": {\n",
    "            \"description\": \"search engine\" \n",
    "        }\n",
    "    }\n",
    ")\n",
    "\n",
    "for hit in response['hits']['hits']:\n",
    "    pprint(hit['_source'])"
   ]
  }
 ],
 "metadata": {
  "kernelspec": {
   "display_name": "my_env",
   "language": "python",
   "name": "python3"
  },
  "language_info": {
   "codemirror_mode": {
    "name": "ipython",
    "version": 3
   },
   "file_extension": ".py",
   "mimetype": "text/x-python",
   "name": "python",
   "nbconvert_exporter": "python",
   "pygments_lexer": "ipython3",
   "version": "3.11.4"
  }
 },
 "nbformat": 4,
 "nbformat_minor": 2
}
